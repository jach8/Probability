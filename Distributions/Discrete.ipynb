{
 "cells": [
  {
   "cell_type": "code",
   "execution_count": 1,
   "metadata": {},
   "outputs": [],
   "source": [
    "import scipy.stats as stats \n",
    "import matplotlib.pyplot as plt \n",
    "import numpy as np "
   ]
  },
  {
   "cell_type": "markdown",
   "metadata": {},
   "source": [
    "## <center>Bernoulli Distribution</center>\n",
    "\n",
    "> Parameters:  $p$ where $0 \\leq p \\leq 1$ \n",
    "- $p$ is the probability of success\n",
    " \n",
    "> Notation: $X \\sim \\text{Bernoulli}(p)$\n",
    "\n",
    "Story: A random variable $X$ has a Bernoulli distribution with parameter $p$ if it has two possible outcomes: 1 (success) and 0 (failure). The probability mass function (pmf) is given by:\n",
    "\n",
    "$$\n",
    "P(X = x) = \\begin{cases}\n",
    "p & \\text{if } x = 1 \\\\\n",
    "1-p & \\text{if } x = 0\n",
    "\\end{cases}\n",
    "$$\n",
    "\n",
    "> $\\mu$: $E(X) = p$\n",
    "> </br>\n",
    "> $\\sigma^2$: $Var(X) = p(1-p)$\n",
    "\n",
    "\n",
    "Note this is the **single case** of the binomial distribution. Where the Binomial Distribution is the sum of random variables following the bernoulli distribution. "
   ]
  },
  {
   "cell_type": "code",
   "execution_count": 9,
   "metadata": {},
   "outputs": [
    {
     "data": {
      "text/plain": [
       "0.7"
      ]
     },
     "execution_count": 9,
     "metadata": {},
     "output_type": "execute_result"
    }
   ],
   "source": [
    "class Bernoulli:\n",
    "    def __init__(self, p):\n",
    "        self.p = p\n",
    "        self.q = 1 - p\n",
    "\n",
    "    def pdf(self, x):\n",
    "        \"\"\" \n",
    "        Returns the probability density function value for a given x:\n",
    "            args: \n",
    "                x: int\n",
    "            \n",
    "            returns:\n",
    "                float\n",
    "        \"\"\"\n",
    "        if x == 1:\n",
    "            return self.p\n",
    "        elif x == 0:\n",
    "            return self.q\n",
    "        else:\n",
    "            return 0\n",
    "    \n",
    "    def cdf(self, x):\n",
    "        \"\"\" \n",
    "        Returns the cumulative density function value for a given x \n",
    "            args: \n",
    "                x: int\n",
    "            \n",
    "            returns:\n",
    "                float\n",
    "        \"\"\"\n",
    "        if x == 0:\n",
    "            return self.q\n",
    "        elif x == 1:\n",
    "            return 1\n",
    "        else:\n",
    "            return 0\n",
    "\n",
    "    def mean(self):\n",
    "        return self.p\n",
    "\n",
    "    def variance(self):\n",
    "        return self.p * self.q\n",
    "\n",
    "    def sample(self, n):\n",
    "        return np.random.binomial(1, self.p, n)\n",
    "\n",
    "    def plot(self):\n",
    "        x = np.arange(0, 2)\n",
    "        y = [self.pdf(i) for i in x]\n",
    "        plt.bar(x, y)\n",
    "        plt.xticks(x)\n",
    "        plt.show()\n",
    "        \n",
    "        \n",
    "# Example\n",
    "p = 0.3\n",
    "bern = Bernoulli(p)\n",
    "\n",
    "bern.pdf(0)"
   ]
  },
  {
   "cell_type": "markdown",
   "metadata": {},
   "source": [
    "Extending the bernoulli distribution to multiple trials, we get the **Binomial Distribtion.**\n",
    "\n",
    "## <center>Binomial Distribution</center>\n",
    "\n",
    "> Parameters:  $n$ where $n \\in \\mathbb{N}$ and $p$ where $0 \\leq p \\leq 1$\n",
    "> </br>\n",
    "> Notation: $X \\sim \\text{Binomial}(n, p)$\n",
    "\n",
    "\n",
    "Story: A random variable $X$ has a binomial distribution with parameters $n$ and $p$ is equal to the sum of $n$ random variables that have \n",
    "independent Bernoulli distribution, each with probability of success $p$. \n",
    "\n",
    "$$ \n",
    "X = X_1 + X_2 + \\ldots + X_n \\quad \\text{where} \\quad X_i \\sim \\text{Bernoulli}(p)\n",
    "$$\n",
    "\n",
    "> A random variable with a binomial distribution is the sum of $n$ Bernoulli random variables. \n",
    "\n",
    "The probability mass function (pmf) is given by:\n",
    "$$\n",
    "p_x(x) = \\begin{cases} \n",
    "    \\binom{n}{x} p^x (1-p)^{n-x} & \\text{if } x = 0, 1, 2, \\ldots, n \\\\\n",
    "    0 & \\text{otherwise}\n",
    "\\end{cases}\n",
    "$$\n",
    "\n",
    "> $\\mu$: $E(X) = np$\n",
    "> </br>\n",
    "> $\\sigma^2$: $Var(X) = np(1-p)$"
   ]
  },
  {
   "cell_type": "code",
   "execution_count": 10,
   "metadata": {},
   "outputs": [],
   "source": [
    "class Binomial:\n",
    "    def __init__(self, n, p):\n",
    "        self.n = n\n",
    "        self.p = p\n",
    "        self.q = 1 - p\n",
    "\n",
    "    def pdf(self, x):\n",
    "        \"\"\" \n",
    "        Returns the probability density function value for a given x:\n",
    "            args: \n",
    "                x: int\n",
    "            \n",
    "            returns:\n",
    "                float\n",
    "        \"\"\"\n",
    "        return stats.binom.pmf(x, self.n, self.p)\n",
    "\n",
    "    def cdf(self, x):\n",
    "        \"\"\" \n",
    "        Returns the cumulative density function value for a given x:\n",
    "            args: \n",
    "                x: int\n",
    "            \n",
    "            returns:\n",
    "                float\n",
    "        \"\"\"\n",
    "        return stats.binom.cdf(x, self.n, self.p)\n",
    "\n",
    "    def mean(self):\n",
    "        return self.n * self.p\n",
    "\n",
    "    def variance(self):\n",
    "        return self.n * self.p * self.q\n",
    "\n",
    "    def sample(self, n):\n",
    "        return np.random.binomial(self.n, self.p, n)\n",
    "\n",
    "    def plot(self):\n",
    "        x = np.arange(0, self.n + 1)\n",
    "        y = [self.pdf(i) for i in x]\n",
    "        plt.bar(x, y)\n",
    "        plt.xticks(x)\n",
    "        plt.show()"
   ]
  },
  {
   "cell_type": "code",
   "execution_count": 14,
   "metadata": {},
   "outputs": [
    {
     "data": {
      "text/plain": [
       "0.8497316674000001"
      ]
     },
     "execution_count": 14,
     "metadata": {},
     "output_type": "execute_result"
    }
   ],
   "source": [
    "b = Binomial(10, 0.3)\n",
    "\n",
    "b.cdf(4)"
   ]
  },
  {
   "cell_type": "code",
   "execution_count": 15,
   "metadata": {},
   "outputs": [
    {
     "data": {
      "text/plain": [
       "0.8497316674000001"
      ]
     },
     "execution_count": 15,
     "metadata": {},
     "output_type": "execute_result"
    }
   ],
   "source": [
    "stats.binom(n = 10, p = 0.3).cdf(4)"
   ]
  },
  {
   "cell_type": "markdown",
   "metadata": {},
   "source": [
    "<center> Negative Binomial Distribution </center>\n",
    "\n",
    "> Parameters:  $r$ where $r \\in \\mathbb{N}$ and $p$ where $0 \\leq p \\leq 1$\n",
    "> </br>\n",
    "> Notation: $X \\sim \\text{Negative Binomial}(r, p)$"
   ]
  },
  {
   "cell_type": "markdown",
   "metadata": {},
   "source": []
  },
  {
   "cell_type": "markdown",
   "metadata": {},
   "source": []
  }
 ],
 "metadata": {
  "kernelspec": {
   "display_name": "ds24",
   "language": "python",
   "name": "python3"
  },
  "language_info": {
   "codemirror_mode": {
    "name": "ipython",
    "version": 3
   },
   "file_extension": ".py",
   "mimetype": "text/x-python",
   "name": "python",
   "nbconvert_exporter": "python",
   "pygments_lexer": "ipython3",
   "version": "3.12.1"
  }
 },
 "nbformat": 4,
 "nbformat_minor": 2
}
