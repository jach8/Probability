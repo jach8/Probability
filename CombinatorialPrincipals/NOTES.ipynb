{
 "cells": [
  {
   "cell_type": "markdown",
   "metadata": {},
   "source": [
    "### Factorials \n",
    "$n! = n \\times (n-1) \\times (n-2) \\times \\ldots \\times 2 \\times 1$\n",
    "\n",
    "-----"
   ]
  },
  {
   "cell_type": "markdown",
   "metadata": {},
   "source": [
    "### Permutations (Order Matters here)\n",
    "\n",
    "a.) Given $n$ distinct objects, the number of different ways in which the objects may be **ordered** is $n!$. \n",
    "\n",
    "For Example the set of three letters $\\{a, b, c\\}$ can be ordered in the following $3! = 6$ ways: \n",
    "$$\n",
    "\\begin{align*}\n",
    "abc & \\quad acb & \\quad bac & \\quad bca & \\quad cab & \\quad cba\n",
    "\\end{align*}\n",
    "$$\n",
    "\n",
    "We say that we are choosing an ordered subset of size $k$ **without replacment** from a collection of $n$ objects if after the first object is chosen, the next object is chosen from the remaining $n - 1$ The next after that from the remaining $n - 2$ etc. The number of ways of doing this is: $$ \\frac{n!}{(n - k)!}$$\n",
    "\n",
    "Using the same set above, the number of ways to choose a subset of size 2 is $\\frac{3!}{(3-2)!} = \\frac{6}{1} = 6$\n",
    "\n",
    "\n",
    "b.) Given $n$ objects of which $n_1$ are type 1, $n_2$ are type 2, ... , and $n_k$ are type $k$, the number of different permutations of these $n$ objects is: $$\\frac{n!}{n_1! \\times n_2! \\times \\ldots \\times n_k!}$$\n",
    "\n",
    "For example, consider the set $\\{a, a, b, b, c\\}$: we have $n = 5$, $n_1 = 2$, $n_2 = 2$, and $n_3 = 1$. \n",
    "\n",
    "**The number of distinct ways to order the 5 objects is** $\\frac{5!}{2! \\times 2! \\times 1!} = 30$\n",
    "\n",
    "----"
   ]
  },
  {
   "cell_type": "markdown",
   "metadata": {},
   "source": [
    "### Combinations (Order does not matter here) \n",
    "\n",
    "Given $n$ distinct objects, the number of ways of choosing a subset of size $k \\leq n$ **without replacment** and without regard for order is $$\\frac{n!}{k!(n - k)!}$$\n",
    "\n",
    "Using the same set as above: $\\{a, b, c\\}$ we see that the number of ways of choosing a subset of size 2 is $\\frac{3!}{2!(3-2)!} = 3$. Here the set $\\{a, b\\}$ is the same as $\\{b, a\\}$\n",
    "Note that in a permutation, this is not the case. \n",
    "\n",
    "The name \"binomial coefficient\" arises from teh fact that these factors appear as **coefficients** in a binomial expansion. For instance, \n",
    "$$(x + y)^3 = x^3 + 3x^2y + 3xy^2 + y^3 = \\binom{3}{0}x^3y^0 + \\binom{3}{1}x^2y^1 + \\binom{3}{2}x^1y^2 + \\binom{3}{3}x^0y^3$$\n",
    "\n",
    "In the power series expansion of $(1+ N)^N$ the coefficient of $t^k$ is $\\binom{N}{k}$ so that $(1+t)^N = \\sum^{\\infin}_{k = 0} \\binom{N}{k} t^k$"
   ]
  },
  {
   "cell_type": "markdown",
   "metadata": {},
   "source": [
    "#### Multinomial Therom: \n",
    "\n",
    "Given $n$ objects of which $n_1$ are type 1, $n_2$ are type 2, ... , and $n_k$ are type $k$, the number of ways of arranging these $n$ objects is: \n",
    "$$\\binom{n_1}{k_1} \\times \\binom{n_2}{k_2} \\times \\dots \\times \\binom{n_t}{k_t}$$\n",
    "Where $k_1 + k_2 + \\dots + k_t = k$ and $n_1 + n_2 + \\dots + n_t = n$ In the power series expansion of $(t_1 + t_2 + \\dots + t_s)^N$ where $N$ is a positive integer the coefficient of $t_1^{k_1} \\times t_2^{k_2} \\times \\dots \\times t_s^{k_s}$ is \n",
    "$$\n",
    "\n",
    "\\binom{N}{k_1, k_2, \\dots, k_s} = \\frac{N!}{k_1! \\times k_2! \\times \\dots \\times k_s!}\n",
    "$$\n",
    "\n",
    "-----"
   ]
  },
  {
   "cell_type": "markdown",
   "metadata": {},
   "source": [
    "#### NOTE:\n",
    "\n",
    "\n",
    "In questions that arise involving choosing $k$ objects from a total of $n$ objects, or constructing a random permuatation of a collection of objects, it is underestood that each of the possible choices or permutations is equally likely to occur. "
   ]
  },
  {
   "cell_type": "code",
   "execution_count": null,
   "metadata": {},
   "outputs": [],
   "source": []
  }
 ],
 "metadata": {
  "language_info": {
   "name": "python"
  }
 },
 "nbformat": 4,
 "nbformat_minor": 2
}
