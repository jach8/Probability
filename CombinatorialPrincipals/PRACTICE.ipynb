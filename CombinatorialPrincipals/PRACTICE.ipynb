{
 "cells": [
  {
   "cell_type": "code",
   "execution_count": 1,
   "metadata": {},
   "outputs": [],
   "source": [
    "import numpy as np \n",
    "import matplotlib.pyplot as plt"
   ]
  },
  {
   "cell_type": "markdown",
   "metadata": {},
   "source": [
    "### 1. Combination practice\n",
    "\n",
    "----\n",
    "\n",
    "##### Suppose three people x, y, z roll an ordinary die. The first to roll an even number wins, the game ends when someone rolls an even number. What is the probability that x will win? \n",
    "\n",
    "- Probability of throwing an even number is $\\frac{3}{6} = \\frac{1}{2}$, because 3 of 6 numbers in the set are even. \n",
    "- X can win the game on the 1st, 4th, 7th, ... rolls.\n",
    "- The probability of rolling the first even number on the n-th roll is $(\\frac{1}{2})^{n - 1} \\frac{1}{2} = \\frac{1}{2^n}$\n",
    "  - This is true because it requires rolling an odd number $(n -1)$ times followed by the even number. \n",
    "\n",
    "- Assuming independence of successive throws, with $A_i = i_{th}\\text{ Throw is even}$ the probability that the first even throw occurs on throw $n$ is: \n",
    "$$\n",
    "P \\{A^{'}_1 \\cap A^{'}_2 \\cap \\dots \\cap A^{'}_{n-1} \\cap A_n \\} \\\\ \\ \\\\ \n",
    "= P(A^{'}_1) \\times P(A^{'}_2) \\times \\dots \\times P(A^{'}_{n -1}) \\times P(A_n) \\\\ \\ \\\\ \n",
    "= P(A^{'})^{n -1} \\times P(A) \\\\ \\ \\\\\n",
    "\\text{Given that: } P(A) = \\frac{1}{2} \\text{ and } P(A^{'}) = \\frac{1}{2} \\\\ \\ \\\\\n",
    "= (\\frac{1}{2})^{n - 1} \\times \\frac{1}{2} = \\frac{1}{2^n}\n",
    "$$\n",
    "To answer this question then we need to sum the probabilities of X winning on the 1st, 4th, 7th, ... rolls.\n",
    "Note that after the tenth role, the probability of X winning is extremely small. In fact, **after** the second role, the probability of x winning is nearly 0%. \n",
    "Therefore, we should only sum over the first 4 x draws, namely n = 1, 4, 7\n",
    "\n",
    "$$\n",
    "P(X \\text{ wins}) = (\\sum_n^{\\{1,4,7,10, \\dots \\}} \\frac{1}{2^n}) \\\\ \\ \\\\\n",
    "= \\frac{1}{2} + \\frac{1}{2^4} + \\frac{1}{2^7} \\\\ \\ \\\\\n",
    "\n",
    "$$"
   ]
  },
  {
   "cell_type": "markdown",
   "metadata": {},
   "source": [
    "----\n",
    "\n",
    "### 2. Without Replacement (The classic URN questions)\n",
    "\n",
    "- Urn 1 contains 7 red, 3 black balls. Urn 2 contains 4 red, 5 black balls. After a randomly selected ball is transferred from Urn 1 to Urn 2, Two balls are drawn from Urn 2 without replacement. Find the probability that both balls drawn from urn 2 are red:\n",
    "\n",
    "Define the following Events: \n",
    "\n",
    "- $R_1$: Red ball is drawn from Urn 1 to Urn 2\n",
    "- $B_1$: Black Ball is drawn from Urn 1 to Urn 2\n",
    "- $R_2$: Two Red balls are selected from Urn 2 after the transfer from Urn 1 to Urn 2\n",
    "\n",
    "Since $R_1$ and $B_1$ are mutually exlusive, \n",
    "$$\n",
    "P(R_2) = P(R_2 \\cap (R_1 \\cup B_1)) = P(R_2 \\cap R_1) + P(R_2 \\cap B_1) \\\\ \\ \\\\\n",
    "= P(R_2 | R_1)P(R_1) + P(R_2 | B_1)P(B_1) \\\\ \\ \\\\\n",
    "= \\frac{ \\binom{5}{2}} {\\binom{10}{2}} * \\frac{7}{10} + \\frac{ \\binom{4}{2}} {\\binom{10}{2}} * \\frac{3}{10} \\\\ \\ \\\\\n",
    "= \\frac{44}{225}\n",
    "$$\n",
    "\n",
    "**Still need to do some work on these kind of questions. Using the Conditional Rules, along with binomial coefficients have always thrown me off**\n",
    "- I can do it. I just need to practice more.\n",
    "- I am not dumb. I just need to practice more.\n",
    "- I am worthy of success. I just need to practice more.\n",
    "- I am capable of doing this. I just need to practice more.\n",
    "- I am a good student. I just need to practice more.\n"
   ]
  },
  {
   "cell_type": "markdown",
   "metadata": {},
   "source": [
    "### 3. Random Number Generator\n",
    "\n",
    "#### A calculator has a random number generator button which, when pressed, displays a random digit 0, 1, ... , 9. The button is pressed 4 times. Assuming that the numbers generated are independent of one another, find the probability of obtaining one \"0\", one \"5\", and two \"9s\" in any order. \n",
    "\n",
    "\n",
    "- In this problem there are $10^4$ different ways to get a subset of 4 digits from the set of numbers. \n",
    "- Since we are choosing a subset of 4 digits then the total possible subsets we can grab containing one 0, one 5, and two 9s is $\\frac{4!}{1! \\times 1! \\times 2!} = 12$\n",
    "- Finally we calculate the probability of getting the desired subset with: $\\frac{12}{10^4}$"
   ]
  },
  {
   "cell_type": "markdown",
   "metadata": {},
   "source": [
    "----\n",
    "\n",
    "#### 4. Lottery Problem\n",
    "\n",
    "In cancada's national 6-49 lottery, a ticket has 6 numbers each from 1 to 49 with no repeats. Find the probability of matching all 6 numbers if the numbers are randomly chosen. The cost of the ticket is $2. If you match exactly 3 of the 6 Numbers you win $10, Find the probability of winning $10. \n",
    "\n",
    "- There are $\\binom{49}{6} = 13,983,816$ ways to choose 6 numbers from the set.\n",
    "- We buy a ticket, with 6 numbers. We are interested in matching 3 of the 6 numbers. \n",
    "- There are $\\binom{6}{3} = 20$ ways to choose 3 numbers from the 6 numbers on OUR ticket.\n",
    "- There are $\\binom{43}{3}$ ways for the winning ticket to choose the remaining 3 numbers. \n",
    "  - This is because we have chosen 6 numbers total, 3 of which are on the winning ticket. \n",
    "    - The reamining 3 winning numbers are chosen from the numbers we have not chosen. $49-6=43$\n",
    "- Therefore this is **Multi-nomial Therom** Problem. \n",
    "\n",
    "- Then the probability of matching exactly 3 of the 6 numbers is: \n",
    "$$\n",
    "\\frac{\\binom{43}{3}\\binom{6}{3}}{\\binom{49}{6}}"
   ]
  },
  {
   "cell_type": "markdown",
   "metadata": {},
   "source": [
    "----\n",
    "\n",
    "#### 5. Probability of a Full House: \n",
    "\n",
    "In a poker hand of 5 cards from an ordinary deck of 52 cards, a \"full-house\" is a hand that consist of 3 of one rank and 2 of another rank (Such as 3 kings, and 2 5's) if 5 Cards are dealt at random from an ordinary deck, find the probability of getting a full house: \n",
    "\n",
    "**Note** There is no replacement, there is 13 \"ranks\" in each of the 4 (♠️♥️♦️♣️) suits. You can get 5 of hearts, or 5 of spades and that is still 2 of the same rank. \n",
    "\n",
    "**INCORRECT**\n",
    "\n",
    "- There are $\\binom{52}{5}$ ways to choose 5 cards from the deck.\n",
    "- There is $\\binom{13}{3}$ and $\\binom{12}{2}$ ways to choose the 3 of one rank and 2 of another rank. (13 ranks, 3 of one rank, 2 of another rank)\n",
    "- Therefore the probability of getting a full house is:\n",
    "$$\n",
    "\\frac{\\binom{13}{3}\\binom{12}{2}}{\\binom{52}{5}}\n",
    "$$\n",
    "Almost there, we were on the right track to begin with. Instead of having 13 choose 3 and 12 choose 2, we need to select 3 of one rank and 2 of the other. There are only 4 \"ranks\" for each card. Therefore instead we should have: \n",
    "$$\n",
    "\\frac{13\\times\\binom{4}{3}\\times12\\times\\binom{4}{2}}{\\binom{52}{5}}\n",
    "$$\n",
    "\n",
    "\n",
    "\n",
    "\n",
    "**SOLUTION**\n",
    "\n",
    "- There are $\\binom{52}{5} = 2,598.960$ possible hands that can be **dealt** from the 52 cards. \n",
    "- There are 13 ranks from duece to ace, and there are $\\binom{13}{2} = 78$ pairs of ranks.\n",
    "- For each pair of ranks, there are $\\binom{4}{3} \\times \\binom{4}{2} = 24$ combinations of 3 cards of one rank and 2 cards of the other rank.\n",
    "  - Also, there is $\\binom{4}{2} \\times \\binom{4}{3} = 24$ ways to choose 2 cards of the first rank and 3 cards of the second rank.\n",
    "  - Therefore there is 48 possible full house hands based on those two ranks. \n",
    "  - Since there is 78 pairs of ranks, there is $78 \\times 48 = 3744$ distinct poker hands that are a Full house. \n",
    "Therefore the probability of getting a full house is: \n",
    "\n",
    "$$\n",
    "\\frac{\\binom{13}{2}(\\binom{4}{3}\\binom{4}{2} + \\binom{4}{2}\\binom{4}{3})} {\\binom{52}{5}}= \\frac{3744}{2,598,960} = 0.00144\n",
    "$$\n",
    "\n",
    "\n"
   ]
  },
  {
   "cell_type": "markdown",
   "metadata": {},
   "source": [
    "------\n",
    "MORE PRACTICE"
   ]
  },
  {
   "cell_type": "markdown",
   "metadata": {},
   "source": [
    "1. A class of 8 boys and 7 girls, The teacher selects 3 of the children at random, and without replacement. Calculate the probability that the number of boys exceed the number of girls selected. \n",
    "\n",
    "- There are $\\binom{15}{3} = 455$ ways to choose 3 children from the class.\n",
    "- To get more boys than girls, you can either choose 2 or 3 boys. \n",
    "  - There are $\\binom{8}{2} \\times \\binom{7}{1}$ ways to choose 2 boys and 1 girl \n",
    "  - There are $\\binom{8}{3}$ ways to choose all boys \n",
    "- Therefore the probability of boys exceeding girls is \n",
    "$$\n",
    "\\frac{\\binom{8}{2}\\binom{7}{1} + \\binom{8}{3}}{\\binom{15}{3}} = \\frac{192 + 56}{455} = \\frac{248}{455} = \\frac{36}{65}\n",
    "$$ "
   ]
  },
  {
   "cell_type": "markdown",
   "metadata": {},
   "source": [
    "---\n",
    "\n",
    "2. There are 97 men and 3 women in an organization. A committee of 5 people is chosen at random, and one of the 5 is selected as the chairperson. What is the probability that the comittee includes all 3 women and has one of the women as a chairperson? \n",
    "\n",
    "- There are $\\binom{100}{5}$ ways to choose 5 people from the organization.\n",
    "- There is only 1 way to select all 3 women and $\\binom{97}{2}$ ways to select 2 men. \n",
    "- Of the 5 selected people, there are 3 ways to choose a woman, and 2 ways to choose a man as the chairperson. \n",
    "  - Probability of selecting a woman is $\\frac{3}{5}$ and the probability of selecting a man is $\\frac{2}{5}$\n",
    "- We want to know the probability that all three women are selected AND the chair person is a woman. \n",
    "\n",
    "$$\n",
    "\\frac{\\binom{3}{3}\\binom{97}{2}}{\\binom{100}{5}} \\times \\frac{3}{5} = \\frac{\\frac{97!}{2!95!}}{\\frac{100!}{5!95!}} \\times \\frac{3}{5} \n",
    "= \\frac{97!5!}{2!100!} \\times \\frac{3}{5} = \\frac{3 \\times 97! \\times 4!}{2! 100!}\n",
    "$$"
   ]
  },
  {
   "cell_type": "markdown",
   "metadata": {},
   "source": [
    "---\n",
    "\n",
    "3. A box contains 4 red and 6 white balls. A sample of size 3 is drawn without replacment. What is the probability of obtaining 1 red ball and 2 white balls, given that atleast 2 balls are white. \n",
    "\n",
    "- We want the **conditional** probability that atleast 2 balls are white. \n",
    "  - This includes 2 white and 1 red, and 3 white. \n",
    "\n",
    "- There is $\\binom{10}{3} = 120$ ways to choose 3 balls. \n",
    "- There is $\\binom{6}{2} \\times \\binom{4}{1} = 60$ ways to choose 2 white and 1 red ball. \n",
    "- There is $\\binom{6}{3} = 20$ ways to choose 3 white balls.\n",
    "\n",
    "- Probability of choosing 2 white and 1 red. \n",
    "$$\n",
    "P(2W, 1R) = \\frac{\\binom{6}{2} \\times \\binom{4}{1}}{\\binom{10}{3}} = \\frac{60}{120} = \\frac{1}{2}\n",
    "$$\n",
    "\n",
    "- Probability of choosing 3 white balls.\n",
    "$$\n",
    "P(3W) = \\frac{\\binom{6}{3}}{\\binom{10}{3}} = \\frac{20}{120} = \\frac{1}{6}\n",
    "$$\n",
    "\n",
    "- Then the conditional probability is given by: \n",
    "$$ \n",
    "P(2W,1R | 2W) = \\frac{P(2W,1R)}{P(2W, 1R) + P(3W)} \\\\ \\ \\\\\n",
    "= \\frac{\\frac{1}{2}}{\\frac{1}{2} + \\frac{1}{6}} = \\frac{\\frac{1}{2}}{\\frac{2}{3}} = \\frac{3}{4}\n",
    "$$"
   ]
  },
  {
   "cell_type": "markdown",
   "metadata": {},
   "source": [
    "-------\n",
    "4. When sent a questionare, the probability is 0.5 that any particular individual to whom it is sent will respond immediately to that questionarire. For an individual who did not respond immediately, there is a probabiliyt of 0.4 that the individual will respond when sent a follow up letter. If the questionaire is sent to 4 person, and a follow up letter is sent to any of the 4 that dont respond immediately, what is the probability that atleast 3 never respond? \n",
    "\n",
    "\n",
    "- The probability that an individual will not respond at all $0.5 \\times 0.6 = 0.3$\n",
    "- The probability that all 4 do not respond at all: $0.3^4$\n",
    "- The probability that atleast 3 never respond: \n",
    "$$\n",
    "P[\\text{1 respond 1st round}, \\text{no responce 2nd round}] + P[\\text{no responce 1st round}, \\text{1 respond 2nd round}]\n",
    "$$\n",
    "\n",
    "**This is a binomial distribution problem:**\n",
    "- The probability of getting no response on the first round: $\\binom{4}{0}(0.5)^4 = 0.5^4$\n",
    "- The probability of getting 1 response on the first round: $\\binom{4}{1}(0.5)^4 = 4(0.5^4)$\n",
    "- The probability of getting no response on the first round, and 1 response on the second: $0.5^4 \\times \\binom{4}{1}(0.4)(0.6)^3$\n",
    "- The probability of getting 1 response on the first round, and no response on the second: $4(0.5^4 \\times 0.6^4)$\n",
    "  \n",
    "- Then the probability of atleast 3 never responding is: \n",
    "$$\n",
    "0.3^4 + 4(0.5^4 \\times 0.6^4) + 4(0.5^4 \\times 0.6^3 \\times 0.4)\n",
    "$$\n"
   ]
  },
  {
   "cell_type": "markdown",
   "metadata": {},
   "source": [
    "----\n",
    "\n",
    "5. A box contains 35 gems, of which 10 are real diamonds, and 25 are fake. Gems are randomly taken out of the box, one at a time without replacment. What is the probability that 2 fakes are selected before the second real diamond is selected? \n",
    "\n",
    "- We want the $P(2 \\text{ Fake before } 2^{nd} \\text{Real is picked})$ \n",
    "  - This means that there is atleast 3 picks before the 2nd real diamond is picked.\n",
    "  - NOTE: Order matters in this problem!\n",
    "- There are three ways this can happen, let $R$ be the event of a real diamond, and $F$ be the event of a fake diamond. \n",
    "  - $FFR, FFR, FFR$\n",
    "- We want the probability that the second real diamond is selected **after** the two fakes have been chosen. So therefore there need to be 4 picks instead of 3, with the second real diaomond being the last pick. \n",
    "  - $FFRR, FRFR, RFFR$\n",
    "  - Lets find the corresponding probabilities: \n",
    "$$\n",
    "FFRR: \\frac{\\binom{25}{2} \\times \\binom{10}{2}}{\\binom{35}{4}} = \\frac{\\frac{25!}{23!} \\times \\frac{10!}{8!}}{\\frac{35!}{31!}} = \\frac{25 \\times 24 \\times 10 \\times 9}{35 \\times 34 \\times 33 \\times 32} \\\\ \\ \\\\\n",
    "$$\n",
    "- By Symmetry the other two probabilities should be the same so we multiply the above probability by 3.\n",
    "- Then the probability of 2 fakes being selected before the 2nd real diamond is:\n",
    "$$\n",
    "3 (\\frac{25 \\times 24 \\times 10 \\times 9}{35 \\times 34 \\times 33 \\times 32}) = 675/5236\n",
    "$$\n",
    "\n",
    "> What is interesting is that in this problem, although we are considering the order being picked we only have to do this calculation once to understand that the other 2 probabilities will result in the same probability. This is because although we consider order, we consider them all at once, in successive turns.. "
   ]
  },
  {
   "cell_type": "markdown",
   "metadata": {},
   "source": [
    "-----\n",
    "\n",
    "6. An insurance company determines that $N$ the number of claims in a week is a ranodm variable with $P[N = n] = \\frac{1}{2^{n + 1}}$ where $n \\geq 0 $ the company also determines that the number of claims in a week is independednt of the number of claims received in any other week. Determine the probability that exactly 7 claims occur a 2 week period.\n",
    "\n",
    "- Start by listing out the number of ways to achieve 7 accident in 2 weeks:\n",
    "    - $W_1, W_2$\n",
    "    - $7, 0$\n",
    "    - $6, 1$\n",
    "    - $5, 2$\n",
    "    - $4, 3$\n",
    "    - $3, 4$\n",
    "    - $2, 5$\n",
    "    - $1, 6$\n",
    "    - $0, 7$\n",
    "- There are a toal of 8 Ways to achieve 7 accidents in 2 weeks. \n",
    "- Now lets find their probabilities: \n",
    "  - $P(7, 0) = \\frac{1}{2^8}$\n",
    "  - $P(6, 1) = \\frac{1}{2^7} \\times \\frac{1}{2^1}$\n",
    "  - $P(5, 2) = \\frac{1}{2^6} \\times \\frac{1}{2^2}$\n",
    "  - $P(4, 3) = \\frac{1}{2^5} \\times \\frac{1}{2^3}$\n",
    "  - $P(3, 4) = \\frac{1}{2^4} \\times \\frac{1}{2^4}$\n",
    "  - $P(2, 5) = \\frac{1}{2^3} \\times \\frac{1}{2^5}$\n",
    "  - $P(1, 6) = \\frac{1}{2^2} \\times \\frac{1}{2^6}$\n",
    "  - $P(0, 7) = \\frac{1}{2^1} \\times \\frac{1}{2^7}$\n",
    "  - $P(7, 0) = \\frac{1}{2^8}$\n",
    "  - note that each of these have a probability of $\\frac{1}{512}$\n",
    "- Then the probability is $8 \\times \\frac{1}{512} = \\frac{1}{64}$"
   ]
  },
  {
   "cell_type": "markdown",
   "metadata": {},
   "source": [
    "----\n",
    "\n",
    "7. Three boxes are numbered 1, 2, 3. For $k = 1, 2, 3$ box $k$ contains $k$ blue moarbles and $5-k$ red marbles. In a two-step experiment a box is selected and 2 marbles are drawn from it without replacment. If the probability of selecing box $k$ is proportional to $k$ what is the probability thatthe two marbles drawn are different colors? "
   ]
  },
  {
   "cell_type": "markdown",
   "metadata": {},
   "source": [
    "\n",
    "-----\n",
    "\n",
    "8. In Canda's national 6-49 Lottery, a ticket has 6 numbers each from 1 to 49, with no repeats. Find the probability of maatching exactly 4 of the 6 numbers, if they are all randomly chosen"
   ]
  },
  {
   "cell_type": "markdown",
   "metadata": {},
   "source": [
    "---\n",
    "9. A number $X$ is chosen randomly from the series: $2, 5, 8 ...$ and another number $Y$ is chosen at random from the series $3, 5, 7, 11, ...$ each series has 100 terms. Find the probability $P(X = Y)$\n"
   ]
  },
  {
   "cell_type": "markdown",
   "metadata": {},
   "source": [
    "---\n",
    "10. A store has 80 Modems in its inventory, 30 coming from source A, and the remainder from source B. Of the modems from source A, 20% are defective. Of the modems from Source B, 8% are defective. Calculate the probability that exactly two out of a random sample of five modems from the store's inventory are defective. "
   ]
  },
  {
   "cell_type": "markdown",
   "metadata": {},
   "source": [
    "---\n",
    "11. From 27 peices of luggage, an airline luggage handler damages a random sample of four. The probability that exactly one of the damged peices of luggage is insured is twice the probability that none of the damged peices areinsured. Calculate the probabilility that exactly two of the four pieces are insured. "
   ]
  },
  {
   "cell_type": "markdown",
   "metadata": {},
   "source": [
    "---\n",
    "\n",
    "12. Thirty items are arranged in a 6 by 5 array. Calculate the number of ways to form a set of 3 distinct items such that no two of the selected items are in the same row or column. "
   ]
  },
  {
   "cell_type": "markdown",
   "metadata": {},
   "source": []
  }
 ],
 "metadata": {
  "kernelspec": {
   "display_name": "ds24",
   "language": "python",
   "name": "python3"
  },
  "language_info": {
   "codemirror_mode": {
    "name": "ipython",
    "version": 3
   },
   "file_extension": ".py",
   "mimetype": "text/x-python",
   "name": "python",
   "nbconvert_exporter": "python",
   "pygments_lexer": "ipython3",
   "version": "3.12.1"
  }
 },
 "nbformat": 4,
 "nbformat_minor": 2
}
